{
 "cells": [
  {
   "cell_type": "code",
   "execution_count": 2,
   "metadata": {},
   "outputs": [],
   "source": [
    "import ccxt\n",
    "import pandas as pd\n",
    "import time\n",
    "from datetime import datetime, timedelta\n",
    "from tqdm import tqdm"
   ]
  },
  {
   "cell_type": "code",
   "execution_count": 3,
   "metadata": {},
   "outputs": [],
   "source": [
    "def fetch_ohlcv_data(symbol, timeframe, since, limit=1000):\n",
    "    \"\"\"\n",
    "    Fetches OHLCV data from Binance for a given symbol and timeframe starting from 'since' date.\n",
    "\n",
    "    Parameters:\n",
    "    - symbol (str): Trading pair symbol (e.g., 'BTC/USDT').\n",
    "    - timeframe (str): Timeframe for OHLCV data (e.g., '1h', '4h', '1d').\n",
    "    - since (int): Timestamp in milliseconds to start fetching data from.\n",
    "    - limit (int): Number of data points per request (max 1000 for Binance).\n",
    "\n",
    "    Returns:\n",
    "    - ohlcv (list of lists): Retrieved OHLCV data.\n",
    "    \"\"\"\n",
    "    binance = ccxt.binance({\n",
    "        'rateLimit': 1200,  # Binance allows up to 1200 requests per minute\n",
    "        'enableRateLimit': True,\n",
    "    })\n",
    "\n",
    "    all_ohlcv = []\n",
    "    while True:\n",
    "        try:\n",
    "            # Fetch OHLCV data\n",
    "            ohlcv = binance.fetch_ohlcv(symbol, timeframe=timeframe, since=since, limit=limit)\n",
    "            \n",
    "            if not ohlcv:\n",
    "                print(\"No more data to fetch.\")\n",
    "                break\n",
    "            \n",
    "            all_ohlcv.extend(ohlcv)\n",
    "            print(f\"Fetched {len(ohlcv)} rows of data.\")\n",
    "\n",
    "            # Update 'since' to the last timestamp + 1 millisecond to avoid duplication\n",
    "            since = ohlcv[-1][0] + 1\n",
    "\n",
    "            # Sleep to respect rate limits\n",
    "            time.sleep(binance.rateLimit / 1000)  # Convert milliseconds to seconds\n",
    "\n",
    "        except ccxt.NetworkError as e:\n",
    "            print(f\"Network error: {e}. Retrying in 10 seconds...\")\n",
    "            time.sleep(10)\n",
    "            continue\n",
    "        except ccxt.ExchangeError as e:\n",
    "            print(f\"Exchange error: {e}.\")\n",
    "            break\n",
    "        except Exception as e:\n",
    "            print(f\"An unexpected error occurred: {e}.\")\n",
    "            break\n",
    "\n",
    "    return all_ohlcv"
   ]
  },
  {
   "cell_type": "code",
   "execution_count": 4,
   "metadata": {},
   "outputs": [],
   "source": [
    "def main():\n",
    "    # ------------------------ Configuration ------------------------ #\n",
    "    SYMBOL = 'BTC/USDT'       # Trading pair symbol\n",
    "    TIMEFRAME = '1h'          # Timeframe: '1h', '4h', '1d', etc.\n",
    "    START_DATE = '2018-01-01' # Start date in 'YYYY-MM-DD' format\n",
    "    OUTPUT_FILE = 'BTC_USDT_1h_data.csv'  # Output CSV file name\n",
    "    # ---------------------------------------------------------------- #\n",
    "\n",
    "    # Convert start date to milliseconds timestamp\n",
    "    start_timestamp = int(datetime.strptime(START_DATE, '%Y-%m-%d').timestamp() * 1000)\n",
    "\n",
    "    # Initialize empty list to store all OHLCV data\n",
    "    all_ohlcv = []\n",
    "\n",
    "    print(f\"Starting data fetch for {SYMBOL} from {START_DATE} with timeframe {TIMEFRAME}.\")\n",
    "\n",
    "    # Fetch data in batches\n",
    "    all_ohlcv = fetch_ohlcv_data(SYMBOL, TIMEFRAME, since=start_timestamp, limit=1000)\n",
    "\n",
    "    # Convert to DataFrame\n",
    "    if all_ohlcv:\n",
    "        df = pd.DataFrame(all_ohlcv, columns=['timestamp', 'open', 'high', 'low', 'close', 'volume'])\n",
    "        # Convert timestamp to datetime\n",
    "        df['timestamp'] = pd.to_datetime(df['timestamp'], unit='ms')\n",
    "        # Set timestamp as index\n",
    "        df.set_index('timestamp', inplace=True)\n",
    "        # Save to CSV\n",
    "        df.to_csv(OUTPUT_FILE)\n",
    "        print(f\"Data saved to {OUTPUT_FILE}.\")\n",
    "    else:\n",
    "        print(\"No data fetched.\")\n"
   ]
  },
  {
   "cell_type": "code",
   "execution_count": 5,
   "metadata": {},
   "outputs": [
    {
     "name": "stdout",
     "output_type": "stream",
     "text": [
      "Starting data fetch for BTC/USDT from 2024-01-01 with timeframe 1h.\n",
      "Fetched 1000 rows of data.\n",
      "Fetched 1000 rows of data.\n",
      "Fetched 1000 rows of data.\n",
      "Fetched 1000 rows of data.\n",
      "Fetched 1000 rows of data.\n",
      "Fetched 1000 rows of data.\n",
      "Fetched 1000 rows of data.\n",
      "Fetched 1000 rows of data.\n",
      "Fetched 344 rows of data.\n",
      "No more data to fetch.\n",
      "Data saved to BTC_USDT_1h_data.csv.\n"
     ]
    }
   ],
   "source": [
    "main()"
   ]
  }
 ],
 "metadata": {
  "kernelspec": {
   "display_name": "Python 3",
   "language": "python",
   "name": "python3"
  },
  "language_info": {
   "codemirror_mode": {
    "name": "ipython",
    "version": 3
   },
   "file_extension": ".py",
   "mimetype": "text/x-python",
   "name": "python",
   "nbconvert_exporter": "python",
   "pygments_lexer": "ipython3",
   "version": "3.9.6"
  }
 },
 "nbformat": 4,
 "nbformat_minor": 2
}
